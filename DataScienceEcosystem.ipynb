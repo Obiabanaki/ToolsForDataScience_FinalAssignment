{
 "cells": [
  {
   "cell_type": "markdown",
   "id": "d9330caf-b3f0-4a6e-aea0-f70a3ca8a885",
   "metadata": {},
   "source": [
    "# Data Science Tools and Ecosystem"
   ]
  },
  {
   "cell_type": "markdown",
   "id": "1eb4df4c-c1f1-418d-9723-a2e8cbbe7b0b",
   "metadata": {},
   "source": [
    "In this notebook, Data Science Tools and Ecosystem are summarized"
   ]
  },
  {
   "cell_type": "markdown",
   "id": "57fb80a8-2709-41b0-9015-488342c78e01",
   "metadata": {
    "tags": []
   },
   "source": [
    "**Objectives:**\n",
    "\n",
    "- List popular languages for Data Science\n",
    "- Github\n",
    "- jupyter notebook\n",
    "- R and RStudio\n"
   ]
  },
  {
   "cell_type": "markdown",
   "id": "2971788b-cfc1-4c5d-8ec4-17d06d2b6375",
   "metadata": {},
   "source": [
    "Some of the popular languages that Data Scientists use are:\n",
    "1. python\n",
    "2. R\n",
    "3. Julia"
   ]
  },
  {
   "cell_type": "markdown",
   "id": "4a4492e6-25bc-4272-8a18-22195ea6f4b2",
   "metadata": {},
   "source": [
    "Some of the commonly used libraries used by Data Scientists include:\n",
    "1. pytorch\n",
    "2. scikit-learn\n",
    "3. tensorflow"
   ]
  },
  {
   "cell_type": "markdown",
   "id": "0f64b05a-164d-41d1-86c4-bb9004604ee4",
   "metadata": {},
   "source": [
    "|Data Science Tools|\n",
    "|------------------|\n",
    "|Vs code|\n",
    "|jupyter notebook|\n",
    "|jupyter lab|"
   ]
  },
  {
   "cell_type": "markdown",
   "id": "51f1e380-ad19-440d-b116-cb66e8abb6f3",
   "metadata": {},
   "source": [
    "### Below are a few examples of evaluating arithmetic expressions in Python"
   ]
  },
  {
   "cell_type": "code",
   "execution_count": 3,
   "id": "380f9fec-a3c7-49cc-a642-8e53c71e8ac0",
   "metadata": {
    "tags": []
   },
   "outputs": [
    {
     "data": {
      "text/plain": [
       "17"
      ]
     },
     "execution_count": 3,
     "metadata": {},
     "output_type": "execute_result"
    }
   ],
   "source": [
    "# This a simple arithmetic expression to mutiply then add integers \n",
    "(3*4)+5"
   ]
  },
  {
   "cell_type": "code",
   "execution_count": 4,
   "id": "3ac140a1-857c-43a7-92e9-798cde08de8b",
   "metadata": {
    "tags": []
   },
   "outputs": [
    {
     "data": {
      "text/plain": [
       "3.3333333333333335"
      ]
     },
     "execution_count": 4,
     "metadata": {},
     "output_type": "execute_result"
    }
   ],
   "source": [
    "# This will convert 200 minutes to hours by diving by 60.\n",
    "200/60"
   ]
  },
  {
   "cell_type": "markdown",
   "id": "8a94e8d1-9556-415b-93c2-5f481b03ed67",
   "metadata": {},
   "source": [
    "## Author \n",
    "Omid Biabanaki"
   ]
  },
  {
   "cell_type": "code",
   "execution_count": null,
   "id": "e19f11d3-2047-4b02-a917-6040571b89aa",
   "metadata": {},
   "outputs": [],
   "source": []
  }
 ],
 "metadata": {
  "kernelspec": {
   "display_name": "Python",
   "language": "python",
   "name": "conda-env-python-py"
  },
  "language_info": {
   "codemirror_mode": {
    "name": "ipython",
    "version": 3
   },
   "file_extension": ".py",
   "mimetype": "text/x-python",
   "name": "python",
   "nbconvert_exporter": "python",
   "pygments_lexer": "ipython3",
   "version": "3.7.12"
  }
 },
 "nbformat": 4,
 "nbformat_minor": 5
}
